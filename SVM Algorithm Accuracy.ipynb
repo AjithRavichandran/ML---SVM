{
 "cells": [
  {
   "cell_type": "code",
   "execution_count": 23,
   "id": "272eba81-e541-471c-ba69-d2736da9633a",
   "metadata": {},
   "outputs": [],
   "source": [
    "import pandas as pd"
   ]
  },
  {
   "cell_type": "code",
   "execution_count": 30,
   "id": "19eefeba-bfb5-46d2-8c5f-4990f555b11f",
   "metadata": {},
   "outputs": [],
   "source": [
    "dataset={'Hyper Parameter':['c10','c100','c500','c1000','c1500','c2000','c3000'],\n",
    "         'RBF':['-0.05747840922457148','-0.05072602278128757','-0.024323348197438532','0.0067683444800727965','0.037760490462942164','0.06751554270553017','0.12322756620227582'],\n",
    "        'Linear':['-0.03964494678192798','0.10646819600577351','0.5928977271145746','0.7802839882154126','0.8568553007234578','0.8767721687716039','0.8956744694334916'],\n",
    "        'Poly':['-0.05366720512712608','-0.019802139315272305','0.11468480742657639','0.26616370931646915','0.38751301377602365','0.4810028155606567','0.6370064223754034'],\n",
    "        'Sigmoid':['-0.05471958332940319','-0.03045351486430925','0.07057214489673913','0.18506861974160804','0.2949049162047025','0.39706528684272135','0.5913630209426106']}"
   ]
  },
  {
   "cell_type": "code",
   "execution_count": 31,
   "id": "15cd59dc-fcf9-477f-87f8-ceae5e903337",
   "metadata": {},
   "outputs": [
    {
     "data": {
      "text/html": [
       "<div>\n",
       "<style scoped>\n",
       "    .dataframe tbody tr th:only-of-type {\n",
       "        vertical-align: middle;\n",
       "    }\n",
       "\n",
       "    .dataframe tbody tr th {\n",
       "        vertical-align: top;\n",
       "    }\n",
       "\n",
       "    .dataframe thead th {\n",
       "        text-align: right;\n",
       "    }\n",
       "</style>\n",
       "<table border=\"1\" class=\"dataframe\">\n",
       "  <thead>\n",
       "    <tr style=\"text-align: right;\">\n",
       "      <th></th>\n",
       "      <th>Hyper Parameter</th>\n",
       "      <th>RBF</th>\n",
       "      <th>Linear</th>\n",
       "      <th>Poly</th>\n",
       "      <th>Sigmoid</th>\n",
       "    </tr>\n",
       "  </thead>\n",
       "  <tbody>\n",
       "    <tr>\n",
       "      <th>0</th>\n",
       "      <td>c10</td>\n",
       "      <td>-0.05747840922457148</td>\n",
       "      <td>-0.03964494678192798</td>\n",
       "      <td>-0.05366720512712608</td>\n",
       "      <td>-0.05471958332940319</td>\n",
       "    </tr>\n",
       "    <tr>\n",
       "      <th>1</th>\n",
       "      <td>c100</td>\n",
       "      <td>-0.05072602278128757</td>\n",
       "      <td>0.10646819600577351</td>\n",
       "      <td>-0.019802139315272305</td>\n",
       "      <td>-0.03045351486430925</td>\n",
       "    </tr>\n",
       "    <tr>\n",
       "      <th>2</th>\n",
       "      <td>c500</td>\n",
       "      <td>-0.024323348197438532</td>\n",
       "      <td>0.5928977271145746</td>\n",
       "      <td>0.11468480742657639</td>\n",
       "      <td>0.07057214489673913</td>\n",
       "    </tr>\n",
       "    <tr>\n",
       "      <th>3</th>\n",
       "      <td>c1000</td>\n",
       "      <td>0.0067683444800727965</td>\n",
       "      <td>0.7802839882154126</td>\n",
       "      <td>0.26616370931646915</td>\n",
       "      <td>0.18506861974160804</td>\n",
       "    </tr>\n",
       "    <tr>\n",
       "      <th>4</th>\n",
       "      <td>c1500</td>\n",
       "      <td>0.037760490462942164</td>\n",
       "      <td>0.8568553007234578</td>\n",
       "      <td>0.38751301377602365</td>\n",
       "      <td>0.2949049162047025</td>\n",
       "    </tr>\n",
       "    <tr>\n",
       "      <th>5</th>\n",
       "      <td>c2000</td>\n",
       "      <td>0.06751554270553017</td>\n",
       "      <td>0.8767721687716039</td>\n",
       "      <td>0.4810028155606567</td>\n",
       "      <td>0.39706528684272135</td>\n",
       "    </tr>\n",
       "    <tr>\n",
       "      <th>6</th>\n",
       "      <td>c3000</td>\n",
       "      <td>0.12322756620227582</td>\n",
       "      <td>0.8956744694334916</td>\n",
       "      <td>0.6370064223754034</td>\n",
       "      <td>0.5913630209426106</td>\n",
       "    </tr>\n",
       "  </tbody>\n",
       "</table>\n",
       "</div>"
      ],
      "text/plain": [
       "  Hyper Parameter                    RBF                Linear  \\\n",
       "0             c10   -0.05747840922457148  -0.03964494678192798   \n",
       "1            c100   -0.05072602278128757   0.10646819600577351   \n",
       "2            c500  -0.024323348197438532    0.5928977271145746   \n",
       "3           c1000  0.0067683444800727965    0.7802839882154126   \n",
       "4           c1500   0.037760490462942164    0.8568553007234578   \n",
       "5           c2000    0.06751554270553017    0.8767721687716039   \n",
       "6           c3000    0.12322756620227582    0.8956744694334916   \n",
       "\n",
       "                    Poly               Sigmoid  \n",
       "0   -0.05366720512712608  -0.05471958332940319  \n",
       "1  -0.019802139315272305  -0.03045351486430925  \n",
       "2    0.11468480742657639   0.07057214489673913  \n",
       "3    0.26616370931646915   0.18506861974160804  \n",
       "4    0.38751301377602365    0.2949049162047025  \n",
       "5     0.4810028155606567   0.39706528684272135  \n",
       "6     0.6370064223754034    0.5913630209426106  "
      ]
     },
     "execution_count": 31,
     "metadata": {},
     "output_type": "execute_result"
    }
   ],
   "source": [
    "pd.DataFrame(dataset)"
   ]
  },
  {
   "cell_type": "code",
   "execution_count": null,
   "id": "c0c37dc3-5d6d-4222-b631-1ae3f7ac4ec9",
   "metadata": {},
   "outputs": [],
   "source": []
  },
  {
   "cell_type": "code",
   "execution_count": null,
   "id": "cc5fbc4d-67db-4ac1-937f-6ceb9757f3b7",
   "metadata": {},
   "outputs": [],
   "source": []
  },
  {
   "cell_type": "code",
   "execution_count": null,
   "id": "d1256639-1fa0-406c-b06d-f69878abf4aa",
   "metadata": {},
   "outputs": [],
   "source": []
  }
 ],
 "metadata": {
  "kernelspec": {
   "display_name": "Python 3 (ipykernel)",
   "language": "python",
   "name": "python3"
  },
  "language_info": {
   "codemirror_mode": {
    "name": "ipython",
    "version": 3
   },
   "file_extension": ".py",
   "mimetype": "text/x-python",
   "name": "python",
   "nbconvert_exporter": "python",
   "pygments_lexer": "ipython3",
   "version": "3.12.4"
  }
 },
 "nbformat": 4,
 "nbformat_minor": 5
}
