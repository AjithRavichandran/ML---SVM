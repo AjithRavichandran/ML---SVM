{
 "cells": [
  {
   "cell_type": "code",
   "execution_count": 1,
   "id": "e5aae6f3-0884-403c-b235-a3d1feeb3ba7",
   "metadata": {},
   "outputs": [],
   "source": [
    "import pickle"
   ]
  },
  {
   "cell_type": "code",
   "execution_count": 3,
   "id": "2038135d-544e-4bc8-a38a-bd8d4a13f871",
   "metadata": {},
   "outputs": [],
   "source": [
    "load=pickle.load(open('SVM Project.sav','rb'))"
   ]
  },
  {
   "cell_type": "code",
   "execution_count": 4,
   "id": "daae4c9b-5acf-4866-afca-b9d3ff8c90ea",
   "metadata": {},
   "outputs": [
    {
     "name": "stdin",
     "output_type": "stream",
     "text": [
      "Enter your R&D Spend: 234\n",
      "Enter your Administration Spend: 3423\n",
      "Enter your Market spent: 123\n",
      "State Florida 0 or 1: 1\n",
      "State New York 0 or 1: 0\n"
     ]
    }
   ],
   "source": [
    "RD_Spend=float(input(\"Enter your R&D Spend:\"))\n",
    "Administration=float(input(\"Enter your Administration Spend:\"))\n",
    "Marketing_Spend=float(input(\"Enter your Market spent:\"))\n",
    "State_Florida=int(input(\"State Florida 0 or 1:\"))\n",
    "State_New_York=int(input(\"State New York 0 or 1:\"))"
   ]
  },
  {
   "cell_type": "code",
   "execution_count": 6,
   "id": "7dc0df3c-3497-4148-a4a0-2ca2b354989d",
   "metadata": {},
   "outputs": [],
   "source": [
    "result=load.predict([[RD_Spend,Administration,Marketing_Spend,State_Florida,State_New_York]])"
   ]
  },
  {
   "cell_type": "code",
   "execution_count": 7,
   "id": "ccbaf353-cfa7-4f3f-bf18-5249cff1091f",
   "metadata": {},
   "outputs": [
    {
     "data": {
      "text/plain": [
       "array([18416650.65717467])"
      ]
     },
     "execution_count": 7,
     "metadata": {},
     "output_type": "execute_result"
    }
   ],
   "source": [
    "result"
   ]
  },
  {
   "cell_type": "code",
   "execution_count": null,
   "id": "ac2b04ef-149d-44ad-9671-2f625937e3e9",
   "metadata": {},
   "outputs": [],
   "source": []
  }
 ],
 "metadata": {
  "kernelspec": {
   "display_name": "Python 3 (ipykernel)",
   "language": "python",
   "name": "python3"
  },
  "language_info": {
   "codemirror_mode": {
    "name": "ipython",
    "version": 3
   },
   "file_extension": ".py",
   "mimetype": "text/x-python",
   "name": "python",
   "nbconvert_exporter": "python",
   "pygments_lexer": "ipython3",
   "version": "3.12.4"
  }
 },
 "nbformat": 4,
 "nbformat_minor": 5
}
